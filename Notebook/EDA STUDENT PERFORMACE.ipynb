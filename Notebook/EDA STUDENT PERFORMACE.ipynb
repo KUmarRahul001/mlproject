{
 "cells": [
  {
   "cell_type": "markdown",
   "metadata": {},
   "source": [
    "# **STUDENT PERFORMANCE INDICATOR**  \n",
    "\n",
    "## *Life cycle of Machine Learning Project*\n",
    "---\n",
    "\n",
    "  *   Understanding our Problem Statement\n",
    "  *  Data Collection\n",
    "  *  Data Checks to perform\n",
    "  *  Exploratory data analysis\n",
    "  *  Data PreProcessing \n",
    "  *  Model Training\n",
    "  *  Choose best model"
   ]
  },
  {
   "cell_type": "markdown",
   "metadata": {},
   "source": [
    "# **1 ) Problem Statement**\n",
    "---\n",
    "  -  This Project understand how the student's performance (**Test Scores**) is affected by other variables such as Gender , Ethnicity, Parental level of education ,Food(Lunch) and test preparation courses.\n",
    "  ---"
   ]
  }
 ],
 "metadata": {
  "language_info": {
   "name": "python"
  }
 },
 "nbformat": 4,
 "nbformat_minor": 2
}
